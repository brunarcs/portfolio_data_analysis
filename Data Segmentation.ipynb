{
 "cells": [
  {
   "cell_type": "code",
   "execution_count": 1,
   "id": "72dd99be",
   "metadata": {},
   "outputs": [],
   "source": [
    "#Libraries\n",
    "\n",
    "import pandas as pd\n",
    "import matplotlib.pyplot as plt\n",
    "from datetime import datetime\n",
    "from sklearn.preprocessing import StandardScaler\n",
    "from sklearn.cluster import KMeans\n",
    "from sklearn.cluster import DBSCAN"
   ]
  },
  {
   "cell_type": "code",
   "execution_count": 2,
   "id": "35d13733",
   "metadata": {},
   "outputs": [],
   "source": [
    "#Data import\n",
    "\n",
    "customers = pd.read_csv('olist_customers_dataset.csv') #dados clientes: id cliente,zip code, cidade, estado\n",
    "orders = pd.read_csv('olist_orders_dataset.csv') #dados pedidos: id pedido, id cliente, status pedido, data pedido, data aprovação do pedido, data entrega transportadora, data entrega cliente\n",
    "orders_items = pd.read_csv('olist_order_items_dataset.csv') #dados itens pedidos: id pedido, id item, id produto, id vendedor, data limite envio, preço, valor frete\n",
    "products = pd.read_csv('olist_products_dataset.csv') #dados produtos: id produto, categoria produto, tamanho nome, tamanho descrição, fotos produtos, peso produto, medidas produto"
   ]
  },
  {
   "cell_type": "code",
   "execution_count": 3,
   "id": "a7f90adc",
   "metadata": {},
   "outputs": [],
   "source": [
    "#Data join\n",
    "\n",
    "database = orders_items.merge(orders,on='order_id') #inclusão de id de cliente, status de pedidos a base de itens de pedidos\n",
    "database = database.merge(customers, on = 'customer_id') #inclusão de detalhes de clientes a base de itens de pedidos\n",
    "database = database.merge(products, on = 'product_id') #inclusão dados de produtos "
   ]
  },
  {
   "cell_type": "code",
   "execution_count": 4,
   "id": "fa9ecb44",
   "metadata": {
    "scrolled": true
   },
   "outputs": [
    {
     "data": {
      "text/plain": [
       "<AxesSubplot:xlabel='customer_state'>"
      ]
     },
     "execution_count": 4,
     "metadata": {},
     "output_type": "execute_result"
    },
    {
     "data": {
      "image/png": "[encoded data removed]",
      "text/plain": [
       "<Figure size 432x288 with 1 Axes>"
      ]
     },
     "metadata": {
      "needs_background": "light"
     },
     "output_type": "display_data"
    }
   ],
   "source": [
    "#Customers analysis\n",
    "customers_df  = pd.DataFrame(customers.groupby('customer_state')['customer_unique_id'].count()) #análise por região\n",
    "customers_df.sort_values(by='customer_unique_id', ascending= False, inplace=True)\n",
    "customers_df.plot(kind= 'bar')"
   ]
  },
  {
   "cell_type": "code",
   "execution_count": 5,
   "id": "d30edf9c",
   "metadata": {},
   "outputs": [],
   "source": [
    "customers_spend = pd.DataFrame(database.groupby('customer_unique_id')['price'].sum()) #análise de gastos\n",
    "customers_spend = customers_spend.reset_index()\n",
    "customers_spend.sort_values(by='price', ascending = False, inplace=True)"
   ]
  },
  {
   "cell_type": "code",
   "execution_count": 6,
   "id": "fd490016",
   "metadata": {},
   "outputs": [],
   "source": [
    "#Análise de compras e período de compras por clientes\n",
    "customer_time = []\n",
    "customer_orders = []\n",
    "customer_order = []\n",
    "\n",
    "for customer in database['customer_unique_id']:\n",
    "    filter_order = database[database['customer_unique_id'] == customer]\n",
    "    first = filter_order['order_purchase_timestamp'].min()\n",
    "    last = filter_order['order_purchase_timestamp'].max()\n",
    "    order_count = filter_order['order_id'].nunique()\n",
    "\n",
    "    \n",
    "    customer_time.append([customer,first,last])\n",
    "    customer_orders.append([customer,order_count])"
   ]
  },
  {
   "cell_type": "code",
   "execution_count": 7,
   "id": "296f2d9a",
   "metadata": {},
   "outputs": [],
   "source": [
    "customer_duration = pd.DataFrame(customer_time,columns=['customer_unique_id','first_purchase','last_purchase']) # dados de período de compras\n",
    "customer_orders = pd.DataFrame(customer_orders,columns=['customer_unique_id','customer_orders']) # dados de volume de compras"
   ]
  },
  {
   "cell_type": "code",
   "execution_count": 8,
   "id": "0dc1a38a",
   "metadata": {
    "scrolled": true
   },
   "outputs": [],
   "source": [
    "#Customer database\n",
    "customers_db = customers.copy()\n",
    "\n",
    "customers_db = customers_db.merge(customer_duration,on='customer_unique_id') # inclusão de dados de primeira e última compra por cliente\n",
    "customers_db = customers_db.merge(customer_orders,on='customer_unique_id') # inclusão de volume de compras por cliente\n",
    "customers_db = customers_db.merge(customers_spend,on='customer_unique_id') # inclusão de total gasto em todas as compras por cliente\n",
    "\n",
    "customers_db.drop_duplicates(subset='customer_unique_id',inplace=True) # remoção de valores duplicados por cliente\n",
    "\n",
    "customers_db['first_purchase'] = pd.to_datetime(customers_db['first_purchase']) # transformação de formato de dado para datetime\n",
    "customers_db['last_purchase'] = pd.to_datetime(customers_db['last_purchase']) # transformação de formato de dado para datetime\n",
    "customers_db['time'] = customers_db['last_purchase'] - customers_db['first_purchase'] # cálculo do período entre primeira e última compra por cliente\n"
   ]
  },
  {
   "cell_type": "code",
   "execution_count": 9,
   "id": "3afbcff2",
   "metadata": {},
   "outputs": [],
   "source": [
    "# RFV analysis\n",
    "customers_db.rename(columns={'price': 'valor',\n",
    "                            'customer_orders':'frequência'},inplace = True) # renomeando coluna que contém a informação de total de valor gasto por cliente e orders por frequência\n",
    "analysis_threshold = '30-09-2018' #data de simulação da análise RFV\n",
    "analysis_date = datetime.strptime(analysis_threshold,'%d-%m-%Y')\n",
    "\n",
    "\n",
    "#customers_db['recência'] = (customers_db['last_purchase'].max() - customers_db['last_purchase']).dt.days  #cálculo de recência; premissa de que análise foi feita no período da última compra realizada na plataforma\n",
    "customers_db['recência'] = (analysis_date - customers_db['last_purchase']).dt.days  #cálculo de recência; premissa de que análise foi feita no período da última compra realizada na plataforma\n"
   ]
  },
  {
   "cell_type": "code",
   "execution_count": 10,
   "id": "f4b227a2",
   "metadata": {
    "scrolled": true
   },
   "outputs": [
    {
     "data": {
      "text/html": [
       "<div>\n",
       "<style scoped>\n",
       "    .dataframe tbody tr th:only-of-type {\n",
       "        vertical-align: middle;\n",
       "    }\n",
       "\n",
       "    .dataframe tbody tr th {\n",
       "        vertical-align: top;\n",
       "    }\n",
       "\n",
       "    .dataframe thead th {\n",
       "        text-align: right;\n",
       "    }\n",
       "</style>\n",
       "<table border=\"1\" class=\"dataframe\">\n",
       "  <thead>\n",
       "    <tr style=\"text-align: right;\">\n",
       "      <th></th>\n",
       "      <th>frequência</th>\n",
       "      <th>recência</th>\n",
       "      <th>valor</th>\n",
       "    </tr>\n",
       "  </thead>\n",
       "  <tbody>\n",
       "    <tr>\n",
       "      <th>count</th>\n",
       "      <td>95420.000000</td>\n",
       "      <td>95420.000000</td>\n",
       "      <td>95420.000000</td>\n",
       "    </tr>\n",
       "    <tr>\n",
       "      <th>mean</th>\n",
       "      <td>1.034018</td>\n",
       "      <td>269.501467</td>\n",
       "      <td>142.440198</td>\n",
       "    </tr>\n",
       "    <tr>\n",
       "      <th>std</th>\n",
       "      <td>0.211234</td>\n",
       "      <td>153.160846</td>\n",
       "      <td>217.656355</td>\n",
       "    </tr>\n",
       "    <tr>\n",
       "      <th>min</th>\n",
       "      <td>1.000000</td>\n",
       "      <td>26.000000</td>\n",
       "      <td>0.850000</td>\n",
       "    </tr>\n",
       "    <tr>\n",
       "      <th>25%</th>\n",
       "      <td>1.000000</td>\n",
       "      <td>145.000000</td>\n",
       "      <td>47.900000</td>\n",
       "    </tr>\n",
       "    <tr>\n",
       "      <th>50%</th>\n",
       "      <td>1.000000</td>\n",
       "      <td>250.000000</td>\n",
       "      <td>89.900000</td>\n",
       "    </tr>\n",
       "    <tr>\n",
       "      <th>75%</th>\n",
       "      <td>1.000000</td>\n",
       "      <td>379.000000</td>\n",
       "      <td>155.000000</td>\n",
       "    </tr>\n",
       "    <tr>\n",
       "      <th>max</th>\n",
       "      <td>16.000000</td>\n",
       "      <td>755.000000</td>\n",
       "      <td>13440.000000</td>\n",
       "    </tr>\n",
       "  </tbody>\n",
       "</table>\n",
       "</div>"
      ],
      "text/plain": [
       "         frequência      recência         valor\n",
       "count  95420.000000  95420.000000  95420.000000\n",
       "mean       1.034018    269.501467    142.440198\n",
       "std        0.211234    153.160846    217.656355\n",
       "min        1.000000     26.000000      0.850000\n",
       "25%        1.000000    145.000000     47.900000\n",
       "50%        1.000000    250.000000     89.900000\n",
       "75%        1.000000    379.000000    155.000000\n",
       "max       16.000000    755.000000  13440.000000"
      ]
     },
     "execution_count": 10,
     "metadata": {},
     "output_type": "execute_result"
    }
   ],
   "source": [
    "# Análise descritiva base de clientes\n",
    "customers_db[['frequência','recência','valor']].describe()"
   ]
  },
  {
   "cell_type": "code",
   "execution_count": 11,
   "id": "eacd4d68",
   "metadata": {},
   "outputs": [],
   "source": [
    "#Model_database\n",
    "df = customers_db[['frequência','recência','valor']] #segmentando variáveis\n",
    "\n",
    "scaler = StandardScaler().fit(df)\n",
    "df_scaled = scaler.transform(df)\n",
    "\n",
    "df_scaled = pd.DataFrame(df_scaled, columns=df.columns[0:]) #df padronizada"
   ]
  },
  {
   "cell_type": "code",
   "execution_count": 12,
   "id": "336c26ba",
   "metadata": {
    "scrolled": true
   },
   "outputs": [
    {
     "data": {
      "image/png": "[encoded data removed]",
      "text/plain": [
       "<Figure size 864x576 with 1 Axes>"
      ]
     },
     "metadata": {
      "needs_background": "light"
     },
     "output_type": "display_data"
    }
   ],
   "source": [
    "#Teste número de clusters\n",
    "soma_quadrados = []\n",
    "clusters = range(1,11)\n",
    "for k in clusters:\n",
    "    kmeanModel = KMeans(n_clusters=k)\n",
    "    kmeanModel.fit(df_scaled)\n",
    "    soma_quadrados.append(kmeanModel.inertia_)\n",
    "\n",
    "plt.figure(figsize=(12,8))\n",
    "plt.plot(clusters, soma_quadrados, 'bx-')\n",
    "plt.xlabel('clusters')\n",
    "plt.ylabel('Total soma dos quadrados de distância do centróide')\n",
    "plt.title('Método Elbow para análise e determinação de número de clusters')\n",
    "plt.show()"
   ]
  },
  {
   "cell_type": "code",
   "execution_count": 13,
   "id": "4ec52f2e",
   "metadata": {
    "scrolled": true
   },
   "outputs": [
    {
     "name": "stderr",
     "output_type": "stream",
     "text": [
      "C:\\Users\\bruna\\AppData\\Local\\Temp/ipykernel_20584/665214159.py:6: SettingWithCopyWarning: \n",
      "A value is trying to be set on a copy of a slice from a DataFrame.\n",
      "Try using .loc[row_indexer,col_indexer] = value instead\n",
      "\n",
      "See the caveats in the documentation: https://pandas.pydata.org/pandas-docs/stable/user_guide/indexing.html#returning-a-view-versus-a-copy\n",
      "  df['kmeans_4'] = kmeans.labels_\n"
     ]
    },
    {
     "data": {
      "text/html": [
       "<div>\n",
       "<style scoped>\n",
       "    .dataframe tbody tr th:only-of-type {\n",
       "        vertical-align: middle;\n",
       "    }\n",
       "\n",
       "    .dataframe tbody tr th {\n",
       "        vertical-align: top;\n",
       "    }\n",
       "\n",
       "    .dataframe thead th {\n",
       "        text-align: right;\n",
       "    }\n",
       "</style>\n",
       "<table border=\"1\" class=\"dataframe\">\n",
       "  <thead>\n",
       "    <tr style=\"text-align: right;\">\n",
       "      <th></th>\n",
       "      <th>frequência</th>\n",
       "      <th>recência</th>\n",
       "      <th>valor</th>\n",
       "    </tr>\n",
       "    <tr>\n",
       "      <th>kmeans_4</th>\n",
       "      <th></th>\n",
       "      <th></th>\n",
       "      <th></th>\n",
       "    </tr>\n",
       "  </thead>\n",
       "  <tbody>\n",
       "    <tr>\n",
       "      <th>0</th>\n",
       "      <td>1.000000</td>\n",
       "      <td>419.689429</td>\n",
       "      <td>114.546212</td>\n",
       "    </tr>\n",
       "    <tr>\n",
       "      <th>1</th>\n",
       "      <td>1.000000</td>\n",
       "      <td>159.493153</td>\n",
       "      <td>113.600586</td>\n",
       "    </tr>\n",
       "    <tr>\n",
       "      <th>2</th>\n",
       "      <td>2.114811</td>\n",
       "      <td>252.063476</td>\n",
       "      <td>243.049823</td>\n",
       "    </tr>\n",
       "    <tr>\n",
       "      <th>3</th>\n",
       "      <td>1.014109</td>\n",
       "      <td>270.192240</td>\n",
       "      <td>1146.407888</td>\n",
       "    </tr>\n",
       "  </tbody>\n",
       "</table>\n",
       "</div>"
      ],
      "text/plain": [
       "          frequência    recência        valor\n",
       "kmeans_4                                     \n",
       "0           1.000000  419.689429   114.546212\n",
       "1           1.000000  159.493153   113.600586\n",
       "2           2.114811  252.063476   243.049823\n",
       "3           1.014109  270.192240  1146.407888"
      ]
     },
     "execution_count": 13,
     "metadata": {},
     "output_type": "execute_result"
    }
   ],
   "source": [
    "#Clusterização com 4 clusters\n",
    "\n",
    "kmeans = KMeans(n_clusters=4)\n",
    "kmeans_fit = kmeans.fit_predict(df_scaled)\n",
    "\n",
    "df['kmeans_4'] = kmeans.labels_\n",
    "\n",
    "df.groupby('kmeans_4')[['frequência','recência','valor']].mean()"
   ]
  },
  {
   "cell_type": "code",
   "execution_count": 14,
   "id": "75f5a80e",
   "metadata": {},
   "outputs": [
    {
     "data": {
      "text/plain": [
       "kmeans_4\n",
       "0    38352\n",
       "1    51917\n",
       "2     2883\n",
       "3     2268\n",
       "Name: kmeans_4, dtype: int64"
      ]
     },
     "execution_count": 14,
     "metadata": {},
     "output_type": "execute_result"
    }
   ],
   "source": [
    "df.groupby('kmeans_4')['kmeans_4'].count()"
   ]
  },
  {
   "cell_type": "code",
   "execution_count": 15,
   "id": "b8e37fc9",
   "metadata": {},
   "outputs": [
    {
     "data": {
      "text/html": [
       "<div>\n",
       "<style scoped>\n",
       "    .dataframe tbody tr th:only-of-type {\n",
       "        vertical-align: middle;\n",
       "    }\n",
       "\n",
       "    .dataframe tbody tr th {\n",
       "        vertical-align: top;\n",
       "    }\n",
       "\n",
       "    .dataframe thead th {\n",
       "        text-align: right;\n",
       "    }\n",
       "</style>\n",
       "<table border=\"1\" class=\"dataframe\">\n",
       "  <thead>\n",
       "    <tr style=\"text-align: right;\">\n",
       "      <th></th>\n",
       "      <th>frequência</th>\n",
       "      <th>recência</th>\n",
       "      <th>valor</th>\n",
       "    </tr>\n",
       "    <tr>\n",
       "      <th>kmeans_4</th>\n",
       "      <th></th>\n",
       "      <th></th>\n",
       "      <th></th>\n",
       "    </tr>\n",
       "  </thead>\n",
       "  <tbody>\n",
       "    <tr>\n",
       "      <th>0</th>\n",
       "      <td>1.0</td>\n",
       "      <td>407.0</td>\n",
       "      <td>82.99</td>\n",
       "    </tr>\n",
       "    <tr>\n",
       "      <th>1</th>\n",
       "      <td>1.0</td>\n",
       "      <td>161.0</td>\n",
       "      <td>84.90</td>\n",
       "    </tr>\n",
       "    <tr>\n",
       "      <th>2</th>\n",
       "      <td>2.0</td>\n",
       "      <td>231.0</td>\n",
       "      <td>179.97</td>\n",
       "    </tr>\n",
       "    <tr>\n",
       "      <th>3</th>\n",
       "      <td>1.0</td>\n",
       "      <td>254.0</td>\n",
       "      <td>912.00</td>\n",
       "    </tr>\n",
       "  </tbody>\n",
       "</table>\n",
       "</div>"
      ],
      "text/plain": [
       "          frequência  recência   valor\n",
       "kmeans_4                              \n",
       "0                1.0     407.0   82.99\n",
       "1                1.0     161.0   84.90\n",
       "2                2.0     231.0  179.97\n",
       "3                1.0     254.0  912.00"
      ]
     },
     "execution_count": 15,
     "metadata": {},
     "output_type": "execute_result"
    }
   ],
   "source": [
    "df.groupby('kmeans_4')[['frequência','recência','valor']].median()"
   ]
  },
  {
   "cell_type": "code",
   "execution_count": null,
   "id": "ccb9efef",
   "metadata": {},
   "outputs": [],
   "source": [
    "#Uso de dbscan\n",
    "\n",
    "dbscan_method = DBSCAN(eps = 0.5, min_samples= 5).fit(df_scaled) #default\n",
    "df['dbscan_default'] = dbscan_method.labels_"
   ]
  },
  {
   "cell_type": "code",
   "execution_count": null,
   "id": "10863d89",
   "metadata": {
    "scrolled": true
   },
   "outputs": [],
   "source": [
    "df.groupby('dbscan_default')[['frequência','recência','valor']].mean()"
   ]
  },
  {
   "cell_type": "code",
   "execution_count": null,
   "id": "d0979288",
   "metadata": {
    "scrolled": true
   },
   "outputs": [],
   "source": [
    "df.groupby('dbscan_default')['dbscan_default'].count()"
   ]
  }
 ],
 "metadata": {
  "kernelspec": {
   "display_name": "Python 3 (ipykernel)",
   "language": "python",
   "name": "python3"
  },
  "language_info": {
   "codemirror_mode": {
    "name": "ipython",
    "version": 3
   },
   "file_extension": ".py",
   "mimetype": "text/x-python",
   "name": "python",
   "nbconvert_exporter": "python",
   "pygments_lexer": "ipython3",
   "version": "3.9.7"
  }
 },
 "nbformat": 4,
 "nbformat_minor": 5
}
