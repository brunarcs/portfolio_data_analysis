{
 "cells": [
  {
   "cell_type": "code",
   "execution_count": null,
   "id": "6b7caf4b",
   "metadata": {},
   "outputs": [],
   "source": [
    "#libraries\n",
    "from bs4 import BeautifulSoup\n",
    "import requests\n",
    "import time\n",
    "import datetime\n",
    "import pandas as pd\n",
    "import smtplib\n",
    "import csv"
   ]
  },
  {
   "cell_type": "code",
   "execution_count": null,
   "id": "51b50319",
   "metadata": {},
   "outputs": [],
   "source": [
    "#Connecting to Website & getting information\n",
    "\n",
    "URL = 'https://www.magazineluiza.com.br/apple-iphone-15-pro-max-256gb-titanio-azul-67-48mp-ios-5g/p/237921400/te/15pm/'\n",
    "\n",
    "headers = {\"User-Agent\": \"Mozilla/5.0 (Windows NT 10.0; Win64; x64) AppleWebKit/537.36 (KHTML, like Gecko) Chrome/121.0.0.0 Safari/537.36\"}\n",
    "\n",
    "page = requests.get(URL,headers = headers)\n",
    "\n",
    "soup1 = BeautifulSoup(page.content, 'html.parser')\n",
    "\n",
    "soup2 = BeautifulSoup(soup1.prettify(), 'html.parser')\n",
    "\n",
    "title = soup2.find('h1', attrs={'data-testid':'heading-product-title'}).get_text()\n",
    "\n",
    "price = soup2.find('p', attrs={'data-testid':'price-value'}).get_text()\n",
    "\n",
    "print(title)\n",
    "print(price)"
   ]
  },
  {
   "cell_type": "code",
   "execution_count": null,
   "id": "f9eab0f9",
   "metadata": {},
   "outputs": [],
   "source": [
    "#Formating information\n",
    "title = title.strip()\n",
    "price = price.strip()\n",
    "\n",
    "today = datetime.date.today()\n",
    "\n",
    "print(title)\n",
    "print(price)\n",
    "print(today)"
   ]
  },
  {
   "cell_type": "code",
   "execution_count": null,
   "id": "cca47601",
   "metadata": {},
   "outputs": [],
   "source": [
    "# Creating csv file\n",
    "import csv\n",
    "\n",
    "header = ['Title', 'Price','Date']\n",
    "\n",
    "data = [title,price,today]\n",
    "\n",
    "with open('WebScraperDataset.csv','w',newline='',encoding = 'UTF8') as f:\n",
    "    writer = csv.writer(f)\n",
    "    writer.writerow(header)\n",
    "    writer.writerow(data)"
   ]
  },
  {
   "cell_type": "code",
   "execution_count": null,
   "id": "88ef9bf6",
   "metadata": {},
   "outputs": [],
   "source": [
    "#Appending data to the csv\n",
    "\n",
    "with open('WebScraperDataset.csv','a+',newline='',encoding = 'UTF8') as f:\n",
    "    writer = csv.writer(f)\n",
    "    writer.writerow(data)"
   ]
  },
  {
   "cell_type": "code",
   "execution_count": null,
   "id": "cbb6d90d",
   "metadata": {},
   "outputs": [],
   "source": [
    "#Reading csv file\n",
    "\n",
    "df = pd.read_csv(r'C:\\Users\\Bruna\\OneDrive\\Portfolio_Data Analysis\\Web Scraping\\WebScraperDataset.csv')\n",
    "\n",
    "df.head()"
   ]
  },
  {
   "cell_type": "code",
   "execution_count": null,
   "id": "325e457b",
   "metadata": {},
   "outputs": [],
   "source": [
    "#Creating function for email alert\n",
    "def send_mail():\n",
    "    server = smtplib.SMTP_SSL('smtp.gmail.com',465)\n",
    "    server.ehlo()\n",
    "    server.login('Email','Password')\n",
    "    subject = 'Price Drop on item'\n",
    "    body = 'User, here we go! The price for the item you wanted just droped below xx'\n",
    "    \n",
    "    msg= f'Subject:{subject}\\n\\\\{body}'\n",
    "    \n",
    "    serve.sendmail('Email',msg)"
   ]
  },
  {
   "cell_type": "code",
   "execution_count": null,
   "id": "c97a204f",
   "metadata": {},
   "outputs": [],
   "source": [
    "#Creating function for price check\n",
    "def check_price():\n",
    "    URL = 'https://www.magazineluiza.com.br/apple-iphone-15-pro-max-256gb-titanio-azul-67-48mp-ios-5g/p/237921400/te/15pm/'\n",
    "\n",
    "    headers = {\"User-Agent\": \"Mozilla/5.0 (Windows NT 10.0; Win64; x64) AppleWebKit/537.36 (KHTML, like Gecko) Chrome/121.0.0.0 Safari/537.36\"}\n",
    "\n",
    "    page = requests.get(URL,headers = headers)\n",
    "\n",
    "    soup1 = BeautifulSoup(page.content, 'html.parser')\n",
    "\n",
    "    soup2 = BeautifulSoup(soup1.prettify(), 'html.parser')\n",
    "\n",
    "    title = soup2.find('h1', attrs={'data-testid':'heading-product-title'}).get_text()\n",
    "\n",
    "    price = soup2.find('p', attrs={'data-testid':'price-value'}).get_text()\n",
    "    \n",
    "    title = title.strip()\n",
    "    price = price.strip()\n",
    "    today = datetime.date.today()\n",
    "    \n",
    "   \n",
    "    header = ['Title', 'Price','Date']\n",
    "\n",
    "    data = [title,price,today]\n",
    "    \n",
    "       \n",
    "    with open('WebScraperDataset.csv','a+',newline='',encoding = 'UTF8') as f:\n",
    "        writer = csv.writer(f)\n",
    "        writer.writerow(data)\n",
    "        \n",
    "    price = ((price[2:]).replace('.',''))\n",
    "    price = price.replace(',','.')\n",
    "        \n",
    "    if(float(price) < 15000):\n",
    "        send_mail()\n",
    "    "
   ]
  },
  {
   "cell_type": "code",
   "execution_count": null,
   "id": "f088ea5d",
   "metadata": {
    "scrolled": true
   },
   "outputs": [],
   "source": [
    "#Setting time for automatic checks\n",
    "\n",
    "while(True):\n",
    "    check_price()\n",
    "    time.sleep(60) #timer in seconds"
   ]
  },
  {
   "cell_type": "code",
   "execution_count": null,
   "id": "8e0430b7",
   "metadata": {},
   "outputs": [],
   "source": [
    "#Checking output\n",
    "df = pd.read_csv(r'C:\\Users\\Bruna\\OneDrive\\Portfolio_Data Analysis\\Web Scraping\\WebScraperDataset.csv')\n",
    "\n",
    "df.head()"
   ]
  }
 ],
 "metadata": {
  "kernelspec": {
   "display_name": "Python 3 (ipykernel)",
   "language": "python",
   "name": "python3"
  },
  "language_info": {
   "codemirror_mode": {
    "name": "ipython",
    "version": 3
   },
   "file_extension": ".py",
   "mimetype": "text/x-python",
   "name": "python",
   "nbconvert_exporter": "python",
   "pygments_lexer": "ipython3",
   "version": "3.11.5"
  }
 },
 "nbformat": 4,
 "nbformat_minor": 5
}
